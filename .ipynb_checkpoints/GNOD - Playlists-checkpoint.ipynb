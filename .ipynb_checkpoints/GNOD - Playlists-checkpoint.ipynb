{
 "cells": [
  {
   "cell_type": "markdown",
   "id": "4c0b9441",
   "metadata": {},
   "source": [
    "### Lab | API wrappers - Create your collection of songs & audio features"
   ]
  },
  {
   "cell_type": "code",
   "execution_count": null,
   "id": "09b21ea7",
   "metadata": {},
   "outputs": [],
   "source": []
  },
  {
   "cell_type": "markdown",
   "id": "6dec4920",
   "metadata": {},
   "source": [
    "### 1. Getting started"
   ]
  },
  {
   "cell_type": "markdown",
   "id": "5f1652d2",
   "metadata": {},
   "source": [
    "#### 1. Import Libraries"
   ]
  },
  {
   "cell_type": "code",
   "execution_count": 1,
   "id": "a30f6eb3",
   "metadata": {},
   "outputs": [],
   "source": [
    "import pandas as pd\n",
    "import spotipy\n",
    "from spotipy.oauth2 import SpotifyClientCredentials\n",
    "from random import randint\n",
    "from time import sleep\n",
    "from pandas import json_normalize"
   ]
  },
  {
   "cell_type": "markdown",
   "id": "93cac4d3",
   "metadata": {},
   "source": [
    "#### 2. Create a log_in file"
   ]
  },
  {
   "cell_type": "code",
   "execution_count": 2,
   "id": "c12dc929",
   "metadata": {},
   "outputs": [],
   "source": [
    "# Consists of our spotify credentials to log in\n",
    "secrets_file = open(\"secrets.txt\",\"r\") #r = opening for reading, needs to be specified\n",
    "\n",
    "# Read the whole file in one go\n",
    "string = secrets_file.read()\n",
    "\n",
    "string.split('\\n')\n",
    "\n",
    "# Translate the set of strings in a dictionary\n",
    "secrets_dict={}\n",
    "for line in string.split('\\n'):\n",
    "    if len(line) > 0:\n",
    "        secrets_dict[line.split(':')[0]]=line.split(':')[1].strip()\n",
    "        "
   ]
  },
  {
   "cell_type": "markdown",
   "id": "3f863f33",
   "metadata": {},
   "source": [
    "#### 3. Log into SpotiPy"
   ]
  },
  {
   "cell_type": "code",
   "execution_count": null,
   "id": "11f95d79",
   "metadata": {},
   "outputs": [],
   "source": [
    "#Initialize SpotiPy with user credentials\n",
    "sp = spotipy.Spotify(auth_manager=SpotifyClientCredentials(client_id=secrets_dict['clientid'],\n",
    "                                                           client_secret=secrets_dict['clientsecret']))"
   ]
  },
  {
   "cell_type": "markdown",
   "id": "4d4f1207",
   "metadata": {},
   "source": [
    "### 2. Importing the large playlist"
   ]
  },
  {
   "cell_type": "code",
   "execution_count": null,
   "id": "1645523a",
   "metadata": {},
   "outputs": [],
   "source": [
    "# we will need more songs for our clustering\n",
    "playlist = sp.user_playlist_tracks(\"spotify\", \"5S8SJdl1BDc0ugpkEvFsIL\")"
   ]
  },
  {
   "cell_type": "code",
   "execution_count": null,
   "id": "47d7a2e1",
   "metadata": {},
   "outputs": [],
   "source": [
    "playlist[\"total\"]"
   ]
  },
  {
   "cell_type": "code",
   "execution_count": null,
   "id": "df7ecd17",
   "metadata": {},
   "outputs": [],
   "source": [
    "def get_playlist_tracks(playlist_id):\n",
    "    results = sp.user_playlist_tracks(\"spotify\",playlist_id)\n",
    "    tracks = results['items']\n",
    "    while results['next']!=None:\n",
    "        try:\n",
    "            results = sp.next(results)\n",
    "            tracks = tracks + results['items']\n",
    "            sleep(randint(1,3))\n",
    "        except:\n",
    "            print('\\nSomething failed.')\n",
    "            time.sleep(5)\n",
    "    return tracks"
   ]
  },
  {
   "cell_type": "code",
   "execution_count": null,
   "id": "c2ddb340",
   "metadata": {},
   "outputs": [],
   "source": [
    "all_tracks = get_playlist_tracks(\"5S8SJdl1BDc0ugpkEvFsIL\")\n",
    "#all_tracks"
   ]
  },
  {
   "cell_type": "code",
   "execution_count": null,
   "id": "970cdbab",
   "metadata": {},
   "outputs": [],
   "source": [
    "# Now I have everything"
   ]
  },
  {
   "cell_type": "markdown",
   "id": "ff899c22",
   "metadata": {},
   "source": [
    "#### 1. Get specific info"
   ]
  },
  {
   "cell_type": "code",
   "execution_count": null,
   "id": "99700671",
   "metadata": {},
   "outputs": [],
   "source": [
    "# Get the name\n",
    "all_tracks[0]['track']['artists'][0]['name']"
   ]
  },
  {
   "cell_type": "code",
   "execution_count": null,
   "id": "13cecaa0",
   "metadata": {},
   "outputs": [],
   "source": [
    "# Get the URL to the song\n",
    "all_tracks[0]['track']['external_urls']['spotify']"
   ]
  },
  {
   "cell_type": "code",
   "execution_count": null,
   "id": "948c30f5",
   "metadata": {},
   "outputs": [],
   "source": [
    "# Get the song title\n",
    "all_tracks[0][\"track\"][\"name\"]"
   ]
  },
  {
   "cell_type": "code",
   "execution_count": null,
   "id": "b9fa81f9",
   "metadata": {},
   "outputs": [],
   "source": [
    "# Get the URI\n",
    "all_tracks[0]['track']['uri']"
   ]
  },
  {
   "cell_type": "code",
   "execution_count": null,
   "id": "2b3464d2",
   "metadata": {},
   "outputs": [],
   "source": [
    "# Get popularity\n",
    "all_tracks[1]['track']['popularity']"
   ]
  },
  {
   "cell_type": "markdown",
   "id": "b8edd22c",
   "metadata": {},
   "source": [
    "#### 2. Get the name, title, popularity, url and uri in a tuple"
   ]
  },
  {
   "cell_type": "code",
   "execution_count": null,
   "id": "f2690e50",
   "metadata": {},
   "outputs": [],
   "source": [
    "# create an empty dataframe with columns for artist and song\n",
    "df = pd.DataFrame(columns=['artist','song','popularity', 'uri', 'url'])\n",
    "\n",
    "# Iterate over the all_tracks dictionary and insert the artist and song into the dataframe\n",
    "for track in all_tracks:\n",
    "    artist_name = track['track']['artists'][0]['name']\n",
    "    song_name = track['track']['name']\n",
    "    popularity = track[\"track\"][\"popularity\"]\n",
    "    uri = track[\"track\"][\"uri\"]\n",
    "    url = track[\"track\"][\"external_urls\"]\n",
    "    df = df.append({'artist':artist_name,'song':song_name, 'popularity':popularity, 'uri':uri, 'url':url}, ignore_index=True)\n",
    "\n",
    "print(df)"
   ]
  },
  {
   "cell_type": "code",
   "execution_count": null,
   "id": "a917abb9",
   "metadata": {},
   "outputs": [],
   "source": [
    "#df"
   ]
  },
  {
   "cell_type": "code",
   "execution_count": null,
   "id": "7d209c04",
   "metadata": {},
   "outputs": [],
   "source": [
    "df['url'] = json_normalize(df['url'])"
   ]
  },
  {
   "cell_type": "code",
   "execution_count": null,
   "id": "e512184a",
   "metadata": {},
   "outputs": [],
   "source": [
    "#df"
   ]
  },
  {
   "cell_type": "code",
   "execution_count": null,
   "id": "03a42e62",
   "metadata": {},
   "outputs": [],
   "source": [
    "# Save to csv\n",
    "df.to_csv('df.csv', index=False)"
   ]
  },
  {
   "cell_type": "markdown",
   "id": "5a6e3aab",
   "metadata": {},
   "source": [
    "### 3. Get the audio features"
   ]
  },
  {
   "cell_type": "code",
   "execution_count": null,
   "id": "cba94de8",
   "metadata": {},
   "outputs": [],
   "source": [
    "df.head(2)"
   ]
  },
  {
   "cell_type": "code",
   "execution_count": null,
   "id": "f18e4b91",
   "metadata": {},
   "outputs": [],
   "source": [
    "song_uri=df['uri'][0]"
   ]
  },
  {
   "cell_type": "code",
   "execution_count": null,
   "id": "c5b49b8d",
   "metadata": {},
   "outputs": [],
   "source": [
    "sp.audio_features(song_uri)"
   ]
  },
  {
   "cell_type": "code",
   "execution_count": null,
   "id": "cfcd147d",
   "metadata": {},
   "outputs": [],
   "source": [
    "# Create a copy of the big dataset"
   ]
  },
  {
   "cell_type": "code",
   "execution_count": null,
   "id": "228fb1dd",
   "metadata": {},
   "outputs": [],
   "source": [
    "test_big = df\n",
    "test_big.shape"
   ]
  },
  {
   "cell_type": "markdown",
   "id": "80d30e53",
   "metadata": {},
   "source": [
    "##### 1. Get the audio features in a list"
   ]
  },
  {
   "cell_type": "code",
   "execution_count": null,
   "id": "55f0fb53",
   "metadata": {
    "scrolled": true
   },
   "outputs": [],
   "source": [
    "# -- Step 1\n",
    "audio_features = []\n",
    "for uri in test_big[\"uri\"]:\n",
    "    audio_features.append(sp.audio_features(uri))"
   ]
  },
  {
   "cell_type": "code",
   "execution_count": null,
   "id": "6e6e8c34",
   "metadata": {},
   "outputs": [],
   "source": [
    "len(audio_features)"
   ]
  },
  {
   "cell_type": "markdown",
   "id": "1bc12dad",
   "metadata": {},
   "source": [
    "##### 2. Convert the audio features list into a dataframe"
   ]
  },
  {
   "cell_type": "code",
   "execution_count": null,
   "id": "c164b628",
   "metadata": {},
   "outputs": [],
   "source": [
    "# -- Step 2 Convert into a dataframe\n",
    "df_features = [pd.DataFrame(d, index=[i]) for i, d in enumerate(audio_features)]\n",
    "df_features_full = pd.concat(df_features)\n"
   ]
  },
  {
   "cell_type": "code",
   "execution_count": null,
   "id": "d354c0fb",
   "metadata": {},
   "outputs": [],
   "source": [
    "df_features_full"
   ]
  },
  {
   "cell_type": "markdown",
   "id": "cc1b8a55",
   "metadata": {},
   "source": [
    "##### 3. Merge test_big and df_features full into one dataframe with an inner join (just keep the values that have the same uri)"
   ]
  },
  {
   "cell_type": "code",
   "execution_count": null,
   "id": "25759eca",
   "metadata": {},
   "outputs": [],
   "source": [
    "test_big"
   ]
  },
  {
   "cell_type": "code",
   "execution_count": null,
   "id": "44f50121",
   "metadata": {},
   "outputs": [],
   "source": [
    "# Inner join to only get the matching values\n",
    "df_data = pd.merge(left = test_big,\n",
    "                                  right = df_features_full,\n",
    "                                  how = 'inner', \n",
    "                                  left_on = \"uri\", \n",
    "                                  right_on= \"uri\")\n",
    "df_data"
   ]
  },
  {
   "cell_type": "code",
   "execution_count": null,
   "id": "3f3cc523",
   "metadata": {},
   "outputs": [],
   "source": [
    "# Save everything as a csv file"
   ]
  },
  {
   "cell_type": "code",
   "execution_count": null,
   "id": "e344be35",
   "metadata": {},
   "outputs": [],
   "source": [
    "df_data.to_csv(\"df_data.csv\", index = False)"
   ]
  },
  {
   "cell_type": "code",
   "execution_count": null,
   "id": "857fb915",
   "metadata": {},
   "outputs": [],
   "source": [
    "# audio_features = []\n",
    "# for uri in df[\"uri\"]:\n",
    "#     try:\n",
    "#         audio_features.append(sp.audio_features(uri))\n",
    "#     except:\n",
    "#         print('\\nSomething failed.')\n",
    "#         time.sleep(10)"
   ]
  },
  {
   "cell_type": "code",
   "execution_count": null,
   "id": "3d406930",
   "metadata": {},
   "outputs": [],
   "source": [
    "test_big.to_csv(\"test_big.csv\", index = False)"
   ]
  },
  {
   "cell_type": "markdown",
   "id": "2fef6be2",
   "metadata": {},
   "source": [
    "# Appendix"
   ]
  },
  {
   "cell_type": "code",
   "execution_count": null,
   "id": "e632d939",
   "metadata": {},
   "outputs": [],
   "source": [
    "# test_big = test_big.assign(audio_features = audio_features)\n",
    "# test_big"
   ]
  },
  {
   "cell_type": "code",
   "execution_count": null,
   "id": "1b025766",
   "metadata": {},
   "outputs": [],
   "source": [
    "# IGNORE IT\n",
    "# ## -- Step 2\n",
    "# test = test.assign(audio_features = audio_features)\n",
    "# test"
   ]
  },
  {
   "cell_type": "markdown",
   "id": "9e64ac78",
   "metadata": {},
   "source": [
    "##### Get a small dataframe to try if things work"
   ]
  },
  {
   "cell_type": "code",
   "execution_count": null,
   "id": "e915fc12",
   "metadata": {},
   "outputs": [],
   "source": [
    "df_small = df.loc[df.song.isin(df.song.drop_duplicates().sample(frac=0.01, random_state=25))] "
   ]
  },
  {
   "cell_type": "code",
   "execution_count": null,
   "id": "01b09a8d",
   "metadata": {},
   "outputs": [],
   "source": [
    "df_small"
   ]
  },
  {
   "cell_type": "code",
   "execution_count": null,
   "id": "55f44a14",
   "metadata": {},
   "outputs": [],
   "source": [
    "# # We have to make the function resilient to errors in case the coinnection breaks\n",
    "# def get_features_delayed(uri):\n",
    "#     # First we try to get the features\n",
    "#     try:\n",
    "#         sleep(randint(1,1)) # respectful nap\n",
    "#         features = sp.audio_features(uri)\n",
    "#     # if it doesnt work we try again, for this we make the function recursive\n",
    "#     except:\n",
    "#         print('Error occured while getting feature names')\n",
    "#         features = get_features_delayed(uri)\n",
    "#     # Finally we return the features\n",
    "#     return features\n",
    "\n",
    "\n",
    "# # NOTES:\n",
    "# # Save a file for every 200 songs"
   ]
  },
  {
   "cell_type": "code",
   "execution_count": null,
   "id": "a4ff9fa5",
   "metadata": {},
   "outputs": [],
   "source": [
    "# df_small['features'] = df_small['uri'].apply(get_features_delayed)"
   ]
  },
  {
   "cell_type": "code",
   "execution_count": null,
   "id": "f341cde4",
   "metadata": {
    "scrolled": true
   },
   "outputs": [],
   "source": [
    "df_small"
   ]
  },
  {
   "cell_type": "code",
   "execution_count": null,
   "id": "def07090",
   "metadata": {},
   "outputs": [],
   "source": [
    "# I can turn the first row around\n",
    "json_normalize(df_small['features'].iloc[1])      "
   ]
  },
  {
   "cell_type": "code",
   "execution_count": null,
   "id": "708d5211",
   "metadata": {},
   "outputs": [],
   "source": []
  },
  {
   "cell_type": "code",
   "execution_count": null,
   "id": "77363959",
   "metadata": {},
   "outputs": [],
   "source": [
    "df_small"
   ]
  },
  {
   "cell_type": "code",
   "execution_count": null,
   "id": "ebaa6a66",
   "metadata": {},
   "outputs": [],
   "source": [
    "test = df_small"
   ]
  },
  {
   "cell_type": "code",
   "execution_count": null,
   "id": "feb319be",
   "metadata": {},
   "outputs": [],
   "source": [
    "# SCHEINT ZU FUNKTIONIEREN\n",
    "# -- Step 1\n",
    "audio_features_small = []\n",
    "for uri in test[\"uri\"]:\n",
    "    audio_features_small.append(sp.audio_features(uri))"
   ]
  },
  {
   "cell_type": "code",
   "execution_count": null,
   "id": "aacc728b",
   "metadata": {},
   "outputs": [],
   "source": [
    "## Step 2 -- Let's split it\n",
    "df_list_test = [pd.DataFrame(d, index=[i]) for i, d in enumerate(audio_features_small)]\n",
    "df_test = pd.concat(df_list_test)"
   ]
  },
  {
   "cell_type": "code",
   "execution_count": null,
   "id": "f50687b9",
   "metadata": {},
   "outputs": [],
   "source": [
    "df_data_small = pd.merge(left = test,\n",
    "                                  right = df_test,\n",
    "                                  how = 'inner', \n",
    "                                  left_on = \"uri\", \n",
    "                                  right_on= \"uri\")\n",
    "df_data_small"
   ]
  },
  {
   "cell_type": "code",
   "execution_count": null,
   "id": "b4136f67",
   "metadata": {},
   "outputs": [],
   "source": [
    "df_data_small.to_csv('data_small.csv', index=False)"
   ]
  },
  {
   "cell_type": "code",
   "execution_count": null,
   "id": "fd2cb94a",
   "metadata": {},
   "outputs": [],
   "source": [
    "# ## -- Step 2\n",
    "# test = test.assign(audio_features = audio_features)\n",
    "# test"
   ]
  },
  {
   "cell_type": "code",
   "execution_count": null,
   "id": "e4226f6d",
   "metadata": {
    "scrolled": true
   },
   "outputs": [],
   "source": [
    "# audio_features = []\n",
    "# for i in df['uri']:\n",
    "#     audio_features.append(sp.audio_features(i))"
   ]
  },
  {
   "cell_type": "code",
   "execution_count": null,
   "id": "8fdadf5b",
   "metadata": {},
   "outputs": [],
   "source": [
    "#audio_features"
   ]
  },
  {
   "cell_type": "code",
   "execution_count": null,
   "id": "4dd2489f",
   "metadata": {},
   "outputs": [],
   "source": [
    "# for i in df['uri']:\n",
    "#     audio_features = sp.audio_features(i)\n",
    "#     df = df.append({'audio_features':audio_features},ignore_index=False)"
   ]
  },
  {
   "cell_type": "code",
   "execution_count": null,
   "id": "9bbedb91",
   "metadata": {},
   "outputs": [],
   "source": [
    "# for i in range(len(df_small['features'])):\n",
    "#     json_normalize(df_small['features'].iloc[i])"
   ]
  },
  {
   "cell_type": "code",
   "execution_count": null,
   "id": "240397e3",
   "metadata": {},
   "outputs": [],
   "source": []
  },
  {
   "cell_type": "code",
   "execution_count": null,
   "id": "d5b70285",
   "metadata": {
    "scrolled": true
   },
   "outputs": [],
   "source": [
    "# df_small_try = df_small\n",
    "# df_small_try"
   ]
  },
  {
   "cell_type": "code",
   "execution_count": null,
   "id": "8a25f2b8",
   "metadata": {},
   "outputs": [],
   "source": [
    "# def flatten_features(df):\n",
    "#     featurelist = []\n",
    "#     for i in range(len(df['features'])):\n",
    "#         try:\n",
    "#             featurelist.append([\n",
    "#             df['features'][i][0]['danceability'],\n",
    "#             df['features'][i][0]['energy'],\n",
    "#             df['features'][i][0]['key'],\n",
    "#             df['features'][i][0]['loudness'],\n",
    "#             df['features'][i][0]['mode'],\n",
    "#             df['features'][i][0]['speechiness'],\n",
    "#             df['features'][i][0]['acousticness'],\n",
    "#             df['features'][i][0]['instrumentalness'],\n",
    "#             df['features'][i][0]['liveness'],\n",
    "#             df['features'][i][0]['valence'],\n",
    "#             df['features'][i][0]['tempo']\n",
    "#             ])\n",
    "#         except:\n",
    "#             featurelist.append([0,0,0,0,0,0,0,0,0,0,0])\n",
    "#     featureframe = pd.DataFrame(featurelist,columns = ['danceability','energy','key','loudness','mode','speechiness','acousticness','instrumentalness','liveness','valence','tempo'] )\n",
    "#     df = pd.concat([df,featureframe],axis = 1)\n",
    "#     df = df.drop('features',axis = 1)\n",
    "#     return df"
   ]
  },
  {
   "cell_type": "code",
   "execution_count": null,
   "id": "c2656fcb",
   "metadata": {},
   "outputs": [],
   "source": [
    "# df_clean = flatten_features(df_small_try)"
   ]
  },
  {
   "cell_type": "code",
   "execution_count": null,
   "id": "ed754727",
   "metadata": {},
   "outputs": [],
   "source": [
    "#json_normalize(df_small_try['features'], ['danceability', 'energy'])"
   ]
  },
  {
   "cell_type": "code",
   "execution_count": null,
   "id": "c7beb424",
   "metadata": {},
   "outputs": [],
   "source": [
    "#df_small_test['features'] = json_normalize(df_small['features'], ['danceability'])"
   ]
  },
  {
   "cell_type": "code",
   "execution_count": null,
   "id": "9f970ac0",
   "metadata": {},
   "outputs": [],
   "source": []
  },
  {
   "cell_type": "code",
   "execution_count": null,
   "id": "0a4f0fa6",
   "metadata": {},
   "outputs": [],
   "source": [
    "# def get_audio_features(uri):\n",
    "#     for uri in df[\"uri\"]:\n",
    "#         audio_features = sp.audio_features(uri)\n",
    "#         df2 = df.append({'audio_features':audio_features}, ignore_index=True)\n",
    "#         while"
   ]
  },
  {
   "cell_type": "code",
   "execution_count": null,
   "id": "d646bcdb",
   "metadata": {},
   "outputs": [],
   "source": []
  },
  {
   "cell_type": "code",
   "execution_count": null,
   "id": "88c39f31",
   "metadata": {},
   "outputs": [],
   "source": []
  },
  {
   "cell_type": "code",
   "execution_count": null,
   "id": "e23badec",
   "metadata": {},
   "outputs": [],
   "source": []
  },
  {
   "cell_type": "code",
   "execution_count": null,
   "id": "cb429b34",
   "metadata": {},
   "outputs": [],
   "source": []
  },
  {
   "cell_type": "code",
   "execution_count": null,
   "id": "61c45e97",
   "metadata": {},
   "outputs": [],
   "source": []
  },
  {
   "cell_type": "code",
   "execution_count": null,
   "id": "14325697",
   "metadata": {},
   "outputs": [],
   "source": [
    "# 'danceability': 0.615,\n",
    "#   'energy': 0.779,\n",
    "#   'key': 2,\n",
    "#   'loudness': -6.454,\n",
    "#   'mode': 1,\n",
    "#   'speechiness': 0.135,\n",
    "#   'acousticness': 0.0665,\n",
    "#   'instrumentalness': 0,\n",
    "#   'liveness': 0.155,\n",
    "#   'valence': 0.453,\n",
    "#   'tempo': 160.0,"
   ]
  },
  {
   "cell_type": "code",
   "execution_count": null,
   "id": "5f98ef7c",
   "metadata": {},
   "outputs": [],
   "source": [
    "# feature_dict = {}"
   ]
  },
  {
   "cell_type": "code",
   "execution_count": null,
   "id": "da4d5e3e",
   "metadata": {},
   "outputs": [],
   "source": [
    "# BASE_URL = 'https://api.spotify.com/v1/'"
   ]
  },
  {
   "cell_type": "code",
   "execution_count": null,
   "id": "cd4ae65a",
   "metadata": {},
   "outputs": [],
   "source": [
    "# for t_uri in track_uris:\n",
    "    \n",
    "#     feature_dict[t_uri] = {'danceability': 0,\n",
    "#                            'energy': 0,\n",
    "#                            'key': 0,\n",
    "#                            'loudness': 0,\n",
    "#                            'mode': 0,\n",
    "#                            'speechiness':0,\n",
    "#                            'acousticness': 0.0665,\n",
    "#                            'instrumentalness': 0,\n",
    "#                            'liveness': 0.155,\n",
    "#                            'valence': 0.453,\n",
    "#                            'tempo': 0}\n",
    "    \n",
    "# #     r = all_tracks.get(BASE_URL + 'tracks/' + t_uri, headers=headers)\n",
    "# #     r = r.json()\n",
    "# #     feature_dict[t_uri]['popularity'] = r['popularity']\n",
    "    \n",
    "#     s = sp.audio_features(t_uri)\n",
    "#     s = json_normalize(s)\n",
    "#     feature_dict[t_uri]['danceability'] = s['danceability']\n",
    "#     feature_dict[t_uri]['energy'] = s['energy']\n",
    "#     feature_dict[t_uri]['speechiness'] = s['speechiness']\n",
    "#     feature_dict[t_uri]['instrumentalness'] = s['instrumentalness']\n",
    "#     feature_dict[t_uri]['tempo'] = s['tempo']"
   ]
  },
  {
   "cell_type": "code",
   "execution_count": null,
   "id": "5ba6e8b5",
   "metadata": {},
   "outputs": [],
   "source": []
  }
 ],
 "metadata": {
  "kernelspec": {
   "display_name": "Python 3 (ipykernel)",
   "language": "python",
   "name": "python3"
  },
  "language_info": {
   "codemirror_mode": {
    "name": "ipython",
    "version": 3
   },
   "file_extension": ".py",
   "mimetype": "text/x-python",
   "name": "python",
   "nbconvert_exporter": "python",
   "pygments_lexer": "ipython3",
   "version": "3.9.13"
  }
 },
 "nbformat": 4,
 "nbformat_minor": 5
}
