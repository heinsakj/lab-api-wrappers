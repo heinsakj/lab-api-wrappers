{
 "cells": [
  {
   "cell_type": "markdown",
   "id": "4c0b9441",
   "metadata": {},
   "source": [
    "### Lab | API wrappers - Create your collection of songs & audio features"
   ]
  },
  {
   "cell_type": "code",
   "execution_count": null,
   "id": "d5f3afd6",
   "metadata": {},
   "outputs": [],
   "source": []
  },
  {
   "cell_type": "markdown",
   "id": "e64110e6",
   "metadata": {},
   "source": [
    "### 1. Getting started"
   ]
  },
  {
   "cell_type": "markdown",
   "id": "490fa095",
   "metadata": {},
   "source": [
    "#### 1. Import Libraries"
   ]
  },
  {
   "cell_type": "code",
   "execution_count": 1,
   "id": "1c51cdad",
   "metadata": {},
   "outputs": [],
   "source": [
    "import pandas as pd\n",
    "import spotipy\n",
    "from spotipy.oauth2 import SpotifyClientCredentials\n",
    "from random import randint\n",
    "from time import sleep\n",
    "from pandas import json_normalize"
   ]
  },
  {
   "cell_type": "markdown",
   "id": "03db09d0",
   "metadata": {},
   "source": [
    "#### 2. Create a log_in file"
   ]
  },
  {
   "cell_type": "code",
   "execution_count": 2,
   "id": "c12dc929",
   "metadata": {},
   "outputs": [],
   "source": [
    "# Consists of our spotify credentials to log in\n",
    "secrets_file = open(\"secrets.txt\",\"r\") #r = opening for reading, needs to be specified\n",
    "\n",
    "# Read the whole file in one go\n",
    "string = secrets_file.read()\n",
    "\n",
    "string.split('\\n')\n",
    "\n",
    "# Translate the set of strings in a dictionary\n",
    "secrets_dict={}\n",
    "for line in string.split('\\n'):\n",
    "    if len(line) > 0:\n",
    "        secrets_dict[line.split(':')[0]]=line.split(':')[1].strip()\n",
    "        "
   ]
  },
  {
   "cell_type": "markdown",
   "id": "01c79af0",
   "metadata": {},
   "source": [
    "#### 3. Log into SpotiPy"
   ]
  },
  {
   "cell_type": "code",
   "execution_count": null,
   "id": "11f95d79",
   "metadata": {},
   "outputs": [],
   "source": [
    "#Initialize SpotiPy with user credentials\n",
    "sp = spotipy.Spotify(auth_manager=SpotifyClientCredentials(client_id=secrets_dict['clientid'],\n",
    "                                                           client_secret=secrets_dict['clientsecret']))"
   ]
  },
  {
   "cell_type": "markdown",
   "id": "4d4f1207",
   "metadata": {},
   "source": [
    "### 2. Importing the large playlist"
   ]
  },
  {
   "cell_type": "code",
   "execution_count": null,
   "id": "1645523a",
   "metadata": {},
   "outputs": [],
   "source": [
    "# we will need more songs for our clustering\n",
    "playlist = sp.user_playlist_tracks(\"spotify\", \"5S8SJdl1BDc0ugpkEvFsIL\")"
   ]
  },
  {
   "cell_type": "code",
   "execution_count": null,
   "id": "47d7a2e1",
   "metadata": {},
   "outputs": [],
   "source": [
    "playlist[\"total\"]"
   ]
  },
  {
   "cell_type": "code",
   "execution_count": null,
   "id": "df7ecd17",
   "metadata": {},
   "outputs": [],
   "source": [
    "def get_playlist_tracks(playlist_id):\n",
    "    results = sp.user_playlist_tracks(\"spotify\",playlist_id)\n",
    "    tracks = results['items']\n",
    "    while results['next']!=None:\n",
    "        try:\n",
    "            results = sp.next(results)\n",
    "            tracks = tracks + results['items']\n",
    "            sleep(randint(1,3))\n",
    "        except:\n",
    "            print('\\nSomething failed.')\n",
    "            time.sleep(5)\n",
    "    return tracks"
   ]
  },
  {
   "cell_type": "code",
   "execution_count": null,
   "id": "c2ddb340",
   "metadata": {},
   "outputs": [],
   "source": [
    "all_tracks = get_playlist_tracks(\"5S8SJdl1BDc0ugpkEvFsIL\")\n",
    "#all_tracks"
   ]
  },
  {
   "cell_type": "code",
   "execution_count": null,
   "id": "c311f6c8",
   "metadata": {},
   "outputs": [],
   "source": [
    "# Now I have everything"
   ]
  },
  {
   "cell_type": "markdown",
   "id": "9aac8604",
   "metadata": {},
   "source": [
    "#### 1. Get specific info"
   ]
  },
  {
   "cell_type": "code",
   "execution_count": null,
   "id": "99700671",
   "metadata": {},
   "outputs": [],
   "source": [
    "# Get the name\n",
    "all_tracks[0]['track']['artists'][0]['name']"
   ]
  },
  {
   "cell_type": "code",
   "execution_count": null,
   "id": "13cecaa0",
   "metadata": {},
   "outputs": [],
   "source": [
    "# Get the URL to the song\n",
    "all_tracks[0]['track']['external_urls']['spotify']"
   ]
  },
  {
   "cell_type": "code",
   "execution_count": null,
   "id": "948c30f5",
   "metadata": {},
   "outputs": [],
   "source": [
    "# Get the song title\n",
    "all_tracks[0][\"track\"][\"name\"]"
   ]
  },
  {
   "cell_type": "code",
   "execution_count": null,
   "id": "b9fa81f9",
   "metadata": {},
   "outputs": [],
   "source": [
    "# Get the URI\n",
    "all_tracks[0]['track']['uri']"
   ]
  },
  {
   "cell_type": "code",
   "execution_count": null,
   "id": "2b3464d2",
   "metadata": {},
   "outputs": [],
   "source": [
    "# Get popularity\n",
    "all_tracks[1]['track']['popularity']"
   ]
  },
  {
   "cell_type": "markdown",
   "id": "b8edd22c",
   "metadata": {},
   "source": [
    "#### 2. Get the name, title, popularity, url and uri in a tuple"
   ]
  },
  {
   "cell_type": "code",
   "execution_count": null,
   "id": "f2690e50",
   "metadata": {},
   "outputs": [],
   "source": [
    "# create an empty dataframe with columns for artist and song\n",
    "df = pd.DataFrame(columns=['artist','song','popularity', 'uri', 'url'])\n",
    "\n",
    "# Iterate over the all_tracks dictionary and insert the artist and song into the dataframe\n",
    "for track in all_tracks:\n",
    "    artist_name = track['track']['artists'][0]['name']\n",
    "    song_name = track['track']['name']\n",
    "    popularity = track[\"track\"][\"popularity\"]\n",
    "    uri = track[\"track\"][\"uri\"]\n",
    "    url = track[\"track\"][\"external_urls\"]\n",
    "    df = df.append({'artist':artist_name,'song':song_name, 'popularity':popularity, 'uri':uri, 'url':url}, ignore_index=True)\n",
    "\n",
    "print(df)"
   ]
  },
  {
   "cell_type": "code",
   "execution_count": null,
   "id": "a917abb9",
   "metadata": {},
   "outputs": [],
   "source": [
    "#df"
   ]
  },
  {
   "cell_type": "code",
   "execution_count": null,
   "id": "7d209c04",
   "metadata": {},
   "outputs": [],
   "source": [
    "df['url'] = json_normalize(df['url'])"
   ]
  },
  {
   "cell_type": "code",
   "execution_count": null,
   "id": "e512184a",
   "metadata": {},
   "outputs": [],
   "source": [
    "#df"
   ]
  },
  {
   "cell_type": "code",
   "execution_count": null,
   "id": "255cad30",
   "metadata": {},
   "outputs": [],
   "source": [
    "# Save to csv\n",
    "df.to_csv('df.csv', index=False)"
   ]
  },
  {
   "cell_type": "markdown",
   "id": "5a6e3aab",
   "metadata": {},
   "source": [
    "### 3. Get the audio features"
   ]
  },
  {
   "cell_type": "code",
   "execution_count": null,
   "id": "cba94de8",
   "metadata": {},
   "outputs": [],
   "source": [
    "df.head(2)"
   ]
  },
  {
   "cell_type": "code",
   "execution_count": null,
   "id": "f18e4b91",
   "metadata": {},
   "outputs": [],
   "source": [
    "song_uri=df['uri'][0]"
   ]
  },
  {
   "cell_type": "code",
   "execution_count": null,
   "id": "c5b49b8d",
   "metadata": {},
   "outputs": [],
   "source": [
    "sp.audio_features(song_uri)"
   ]
  },
  {
   "cell_type": "code",
   "execution_count": null,
   "id": "2adb45eb",
   "metadata": {},
   "outputs": [],
   "source": [
    "# Create a copy of the big dataset"
   ]
  },
  {
   "cell_type": "code",
   "execution_count": null,
   "id": "73156faa",
   "metadata": {},
   "outputs": [],
   "source": [
    "test_big = df\n",
    "test_big.shape"
   ]
  },
  {
   "cell_type": "markdown",
   "id": "96a5d22d",
   "metadata": {},
   "source": [
    "##### 1. Get the audio features in a list"
   ]
  },
  {
   "cell_type": "code",
   "execution_count": null,
   "id": "9fe91e7c",
   "metadata": {
    "scrolled": true
   },
   "outputs": [],
   "source": [
    "# -- Step 1\n",
    "audio_features = []\n",
    "for uri in test_big[\"uri\"]:\n",
    "    audio_features.append(sp.audio_features(uri))"
   ]
  },
  {
   "cell_type": "code",
   "execution_count": null,
   "id": "e680c0f0",
   "metadata": {},
   "outputs": [],
   "source": [
    "len(audio_features)"
   ]
  },
  {
   "cell_type": "markdown",
   "id": "a0eba4d4",
   "metadata": {},
   "source": [
    "##### 2. Convert the audio features list into a dataframe"
   ]
  },
  {
   "cell_type": "code",
   "execution_count": null,
   "id": "fffd9c8b",
   "metadata": {},
   "outputs": [],
   "source": [
    "# -- Step 2 Convert into a dataframe\n",
    "df_features = [pd.DataFrame(d, index=[i]) for i, d in enumerate(audio_features)]\n",
    "df_features_full = pd.concat(df_features)\n"
   ]
  },
  {
   "cell_type": "code",
   "execution_count": null,
   "id": "a2cd9442",
   "metadata": {},
   "outputs": [],
   "source": [
    "df_features_full"
   ]
  },
  {
   "cell_type": "markdown",
   "id": "d5b7d01d",
   "metadata": {},
   "source": [
    "##### 3. Merge test_big and df_features full into one dataframe with an inner join (just keep the values that have the same uri)"
   ]
  },
  {
   "cell_type": "code",
   "execution_count": null,
   "id": "15082dfa",
   "metadata": {},
   "outputs": [],
   "source": [
    "test_big"
   ]
  },
  {
   "cell_type": "code",
   "execution_count": null,
   "id": "c248dd7a",
   "metadata": {},
   "outputs": [],
   "source": [
    "# Inner join to only get the matching values\n",
    "df_data = pd.merge(left = test_big,\n",
    "                                  right = df_features_full,\n",
    "                                  how = 'inner', \n",
    "                                  left_on = \"uri\", \n",
    "                                  right_on= \"uri\")\n",
    "df_data"
   ]
  },
  {
   "cell_type": "code",
   "execution_count": null,
   "id": "4df2ea7c",
   "metadata": {},
   "outputs": [],
   "source": [
    "# Save everything as a csv file"
   ]
  },
  {
   "cell_type": "code",
   "execution_count": null,
   "id": "b6f323ef",
   "metadata": {},
   "outputs": [],
   "source": [
    "df_data.to_csv(\"df_data.csv\", index = False)"
   ]
  },
  {
   "cell_type": "code",
   "execution_count": null,
   "id": "4654bbcf",
   "metadata": {},
   "outputs": [],
   "source": [
    "# audio_features = []\n",
    "# for uri in df[\"uri\"]:\n",
    "#     try:\n",
    "#         audio_features.append(sp.audio_features(uri))\n",
    "#     except:\n",
    "#         print('\\nSomething failed.')\n",
    "#         time.sleep(10)"
   ]
  },
  {
   "cell_type": "code",
   "execution_count": null,
   "id": "c1c724b9",
   "metadata": {},
   "outputs": [],
   "source": [
    "test_big.to_csv(\"test_big.csv\", index = False)"
   ]
  },
  {
   "cell_type": "code",
   "execution_count": 3,
   "id": "71a02542",
   "metadata": {},
   "outputs": [
    {
     "data": {
      "text/html": [
       "<div>\n",
       "<style scoped>\n",
       "    .dataframe tbody tr th:only-of-type {\n",
       "        vertical-align: middle;\n",
       "    }\n",
       "\n",
       "    .dataframe tbody tr th {\n",
       "        vertical-align: top;\n",
       "    }\n",
       "\n",
       "    .dataframe thead th {\n",
       "        text-align: right;\n",
       "    }\n",
       "</style>\n",
       "<table border=\"1\" class=\"dataframe\">\n",
       "  <thead>\n",
       "    <tr style=\"text-align: right;\">\n",
       "      <th></th>\n",
       "      <th>artist</th>\n",
       "      <th>song</th>\n",
       "      <th>popularity</th>\n",
       "      <th>uri</th>\n",
       "      <th>url</th>\n",
       "      <th>audio_features</th>\n",
       "      <th>danceability</th>\n",
       "      <th>energy</th>\n",
       "      <th>key</th>\n",
       "      <th>loudness</th>\n",
       "      <th>...</th>\n",
       "      <th>liveness</th>\n",
       "      <th>valence</th>\n",
       "      <th>tempo</th>\n",
       "      <th>type</th>\n",
       "      <th>id</th>\n",
       "      <th>track_href</th>\n",
       "      <th>analysis_url</th>\n",
       "      <th>duration_ms</th>\n",
       "      <th>time_signature</th>\n",
       "      <th>0</th>\n",
       "    </tr>\n",
       "  </thead>\n",
       "  <tbody>\n",
       "    <tr>\n",
       "      <th>0</th>\n",
       "      <td>Taylor Swift</td>\n",
       "      <td>...Ready For It?</td>\n",
       "      <td>0</td>\n",
       "      <td>spotify:track:7zgqtptZvhf8GEmdsM2vp2</td>\n",
       "      <td>https://open.spotify.com/track/7zgqtptZvhf8GEm...</td>\n",
       "      <td>[{'danceability': 0.615, 'energy': 0.779, 'key...</td>\n",
       "      <td>0.615</td>\n",
       "      <td>0.779</td>\n",
       "      <td>2.0</td>\n",
       "      <td>-6.454</td>\n",
       "      <td>...</td>\n",
       "      <td>0.1550</td>\n",
       "      <td>0.453</td>\n",
       "      <td>160.000</td>\n",
       "      <td>audio_features</td>\n",
       "      <td>7zgqtptZvhf8GEmdsM2vp2</td>\n",
       "      <td>https://api.spotify.com/v1/tracks/7zgqtptZvhf8...</td>\n",
       "      <td>https://api.spotify.com/v1/audio-analysis/7zgq...</td>\n",
       "      <td>208198.0</td>\n",
       "      <td>4.0</td>\n",
       "      <td>NaN</td>\n",
       "    </tr>\n",
       "    <tr>\n",
       "      <th>1</th>\n",
       "      <td>Thomas Rhett</td>\n",
       "      <td>Life Changes</td>\n",
       "      <td>63</td>\n",
       "      <td>spotify:track:4Vxu50qVrQcycjRyJQaZLC</td>\n",
       "      <td>https://open.spotify.com/track/4Vxu50qVrQcycjR...</td>\n",
       "      <td>[{'danceability': 0.687, 'energy': 0.845, 'key...</td>\n",
       "      <td>0.687</td>\n",
       "      <td>0.845</td>\n",
       "      <td>7.0</td>\n",
       "      <td>-4.370</td>\n",
       "      <td>...</td>\n",
       "      <td>0.0452</td>\n",
       "      <td>0.809</td>\n",
       "      <td>87.972</td>\n",
       "      <td>audio_features</td>\n",
       "      <td>4Vxu50qVrQcycjRyJQaZLC</td>\n",
       "      <td>https://api.spotify.com/v1/tracks/4Vxu50qVrQcy...</td>\n",
       "      <td>https://api.spotify.com/v1/audio-analysis/4Vxu...</td>\n",
       "      <td>190227.0</td>\n",
       "      <td>4.0</td>\n",
       "      <td>NaN</td>\n",
       "    </tr>\n",
       "    <tr>\n",
       "      <th>2</th>\n",
       "      <td>Bruno Mars</td>\n",
       "      <td>24K Magic</td>\n",
       "      <td>81</td>\n",
       "      <td>spotify:track:6b8Be6ljOzmkOmFslEb23P</td>\n",
       "      <td>https://open.spotify.com/track/6b8Be6ljOzmkOmF...</td>\n",
       "      <td>[{'danceability': 0.818, 'energy': 0.803, 'key...</td>\n",
       "      <td>0.818</td>\n",
       "      <td>0.803</td>\n",
       "      <td>1.0</td>\n",
       "      <td>-4.282</td>\n",
       "      <td>...</td>\n",
       "      <td>0.1530</td>\n",
       "      <td>0.632</td>\n",
       "      <td>106.970</td>\n",
       "      <td>audio_features</td>\n",
       "      <td>6b8Be6ljOzmkOmFslEb23P</td>\n",
       "      <td>https://api.spotify.com/v1/tracks/6b8Be6ljOzmk...</td>\n",
       "      <td>https://api.spotify.com/v1/audio-analysis/6b8B...</td>\n",
       "      <td>225983.0</td>\n",
       "      <td>4.0</td>\n",
       "      <td>NaN</td>\n",
       "    </tr>\n",
       "    <tr>\n",
       "      <th>3</th>\n",
       "      <td>Ed Sheeran</td>\n",
       "      <td>Galway Girl</td>\n",
       "      <td>80</td>\n",
       "      <td>spotify:track:0afhq8XCExXpqazXczTSve</td>\n",
       "      <td>https://open.spotify.com/track/0afhq8XCExXpqaz...</td>\n",
       "      <td>[{'danceability': 0.624, 'energy': 0.876, 'key...</td>\n",
       "      <td>0.624</td>\n",
       "      <td>0.876</td>\n",
       "      <td>9.0</td>\n",
       "      <td>-3.374</td>\n",
       "      <td>...</td>\n",
       "      <td>0.3270</td>\n",
       "      <td>0.781</td>\n",
       "      <td>99.943</td>\n",
       "      <td>audio_features</td>\n",
       "      <td>0afhq8XCExXpqazXczTSve</td>\n",
       "      <td>https://api.spotify.com/v1/tracks/0afhq8XCExXp...</td>\n",
       "      <td>https://api.spotify.com/v1/audio-analysis/0afh...</td>\n",
       "      <td>170827.0</td>\n",
       "      <td>4.0</td>\n",
       "      <td>NaN</td>\n",
       "    </tr>\n",
       "    <tr>\n",
       "      <th>4</th>\n",
       "      <td>Ed Sheeran</td>\n",
       "      <td>Photograph</td>\n",
       "      <td>86</td>\n",
       "      <td>spotify:track:1HNkqx9Ahdgi1Ixy2xkKkL</td>\n",
       "      <td>https://open.spotify.com/track/1HNkqx9Ahdgi1Ix...</td>\n",
       "      <td>[{'danceability': 0.614, 'energy': 0.379, 'key...</td>\n",
       "      <td>0.614</td>\n",
       "      <td>0.379</td>\n",
       "      <td>4.0</td>\n",
       "      <td>-10.480</td>\n",
       "      <td>...</td>\n",
       "      <td>0.0986</td>\n",
       "      <td>0.201</td>\n",
       "      <td>107.989</td>\n",
       "      <td>audio_features</td>\n",
       "      <td>1HNkqx9Ahdgi1Ixy2xkKkL</td>\n",
       "      <td>https://api.spotify.com/v1/tracks/1HNkqx9Ahdgi...</td>\n",
       "      <td>https://api.spotify.com/v1/audio-analysis/1HNk...</td>\n",
       "      <td>258987.0</td>\n",
       "      <td>4.0</td>\n",
       "      <td>NaN</td>\n",
       "    </tr>\n",
       "    <tr>\n",
       "      <th>...</th>\n",
       "      <td>...</td>\n",
       "      <td>...</td>\n",
       "      <td>...</td>\n",
       "      <td>...</td>\n",
       "      <td>...</td>\n",
       "      <td>...</td>\n",
       "      <td>...</td>\n",
       "      <td>...</td>\n",
       "      <td>...</td>\n",
       "      <td>...</td>\n",
       "      <td>...</td>\n",
       "      <td>...</td>\n",
       "      <td>...</td>\n",
       "      <td>...</td>\n",
       "      <td>...</td>\n",
       "      <td>...</td>\n",
       "      <td>...</td>\n",
       "      <td>...</td>\n",
       "      <td>...</td>\n",
       "      <td>...</td>\n",
       "      <td>...</td>\n",
       "    </tr>\n",
       "    <tr>\n",
       "      <th>9990</th>\n",
       "      <td>Elton John</td>\n",
       "      <td>Funeral For A Friend / Love Lies Bleeding</td>\n",
       "      <td>0</td>\n",
       "      <td>spotify:track:4UFlPCB4THnQ9TlPHqIQow</td>\n",
       "      <td>https://open.spotify.com/track/4UFlPCB4THnQ9Tl...</td>\n",
       "      <td>[{'danceability': 0.41, 'energy': 0.761, 'key'...</td>\n",
       "      <td>0.410</td>\n",
       "      <td>0.761</td>\n",
       "      <td>9.0</td>\n",
       "      <td>-8.507</td>\n",
       "      <td>...</td>\n",
       "      <td>0.2470</td>\n",
       "      <td>0.193</td>\n",
       "      <td>138.712</td>\n",
       "      <td>audio_features</td>\n",
       "      <td>4UFlPCB4THnQ9TlPHqIQow</td>\n",
       "      <td>https://api.spotify.com/v1/tracks/4UFlPCB4THnQ...</td>\n",
       "      <td>https://api.spotify.com/v1/audio-analysis/4UFl...</td>\n",
       "      <td>666572.0</td>\n",
       "      <td>4.0</td>\n",
       "      <td>NaN</td>\n",
       "    </tr>\n",
       "    <tr>\n",
       "      <th>9991</th>\n",
       "      <td>Supertramp</td>\n",
       "      <td>Fool's Overture</td>\n",
       "      <td>55</td>\n",
       "      <td>spotify:track:5pSSEkT0963muzzIjsVkrs</td>\n",
       "      <td>https://open.spotify.com/track/5pSSEkT0963muzz...</td>\n",
       "      <td>[{'danceability': 0.406, 'energy': 0.306, 'key...</td>\n",
       "      <td>0.406</td>\n",
       "      <td>0.306</td>\n",
       "      <td>3.0</td>\n",
       "      <td>-10.482</td>\n",
       "      <td>...</td>\n",
       "      <td>0.0727</td>\n",
       "      <td>0.073</td>\n",
       "      <td>135.272</td>\n",
       "      <td>audio_features</td>\n",
       "      <td>5pSSEkT0963muzzIjsVkrs</td>\n",
       "      <td>https://api.spotify.com/v1/tracks/5pSSEkT0963m...</td>\n",
       "      <td>https://api.spotify.com/v1/audio-analysis/5pSS...</td>\n",
       "      <td>652560.0</td>\n",
       "      <td>4.0</td>\n",
       "      <td>NaN</td>\n",
       "    </tr>\n",
       "    <tr>\n",
       "      <th>9992</th>\n",
       "      <td>Yes</td>\n",
       "      <td>Heart of the Sunrise - 2003 Remaster</td>\n",
       "      <td>47</td>\n",
       "      <td>spotify:track:7gC6Rbllqf1yXNC02e5jz2</td>\n",
       "      <td>https://open.spotify.com/track/7gC6Rbllqf1yXNC...</td>\n",
       "      <td>[{'danceability': 0.362, 'energy': 0.507, 'key...</td>\n",
       "      <td>0.362</td>\n",
       "      <td>0.507</td>\n",
       "      <td>1.0</td>\n",
       "      <td>-11.229</td>\n",
       "      <td>...</td>\n",
       "      <td>0.1130</td>\n",
       "      <td>0.456</td>\n",
       "      <td>146.641</td>\n",
       "      <td>audio_features</td>\n",
       "      <td>7gC6Rbllqf1yXNC02e5jz2</td>\n",
       "      <td>https://api.spotify.com/v1/tracks/7gC6Rbllqf1y...</td>\n",
       "      <td>https://api.spotify.com/v1/audio-analysis/7gC6...</td>\n",
       "      <td>634440.0</td>\n",
       "      <td>3.0</td>\n",
       "      <td>NaN</td>\n",
       "    </tr>\n",
       "    <tr>\n",
       "      <th>9993</th>\n",
       "      <td>Paul McCartney</td>\n",
       "      <td>Venus And Mars / Rock Show / Jet - Live / Rema...</td>\n",
       "      <td>0</td>\n",
       "      <td>spotify:track:6Ff77WXC58MkhLE5A1qgY1</td>\n",
       "      <td>https://open.spotify.com/track/6Ff77WXC58MkhLE...</td>\n",
       "      <td>[{'danceability': 0.331, 'energy': 0.733, 'key...</td>\n",
       "      <td>0.331</td>\n",
       "      <td>0.733</td>\n",
       "      <td>2.0</td>\n",
       "      <td>-8.671</td>\n",
       "      <td>...</td>\n",
       "      <td>0.9470</td>\n",
       "      <td>0.380</td>\n",
       "      <td>128.512</td>\n",
       "      <td>audio_features</td>\n",
       "      <td>6Ff77WXC58MkhLE5A1qgY1</td>\n",
       "      <td>https://api.spotify.com/v1/tracks/6Ff77WXC58Mk...</td>\n",
       "      <td>https://api.spotify.com/v1/audio-analysis/6Ff7...</td>\n",
       "      <td>620747.0</td>\n",
       "      <td>4.0</td>\n",
       "      <td>NaN</td>\n",
       "    </tr>\n",
       "    <tr>\n",
       "      <th>9994</th>\n",
       "      <td>The Killers</td>\n",
       "      <td>Mr. Brightside</td>\n",
       "      <td>0</td>\n",
       "      <td>spotify:track:1is5wwajEk2JW7Nsd63r3m</td>\n",
       "      <td>https://open.spotify.com/track/1is5wwajEk2JW7N...</td>\n",
       "      <td>[{'danceability': 0.342, 'energy': 0.932, 'key...</td>\n",
       "      <td>0.342</td>\n",
       "      <td>0.932</td>\n",
       "      <td>1.0</td>\n",
       "      <td>-3.644</td>\n",
       "      <td>...</td>\n",
       "      <td>0.0938</td>\n",
       "      <td>0.226</td>\n",
       "      <td>148.148</td>\n",
       "      <td>audio_features</td>\n",
       "      <td>1is5wwajEk2JW7Nsd63r3m</td>\n",
       "      <td>https://api.spotify.com/v1/tracks/1is5wwajEk2J...</td>\n",
       "      <td>https://api.spotify.com/v1/audio-analysis/1is5...</td>\n",
       "      <td>222107.0</td>\n",
       "      <td>4.0</td>\n",
       "      <td>NaN</td>\n",
       "    </tr>\n",
       "  </tbody>\n",
       "</table>\n",
       "<p>9995 rows × 24 columns</p>\n",
       "</div>"
      ],
      "text/plain": [
       "              artist                                               song  \\\n",
       "0       Taylor Swift                                   ...Ready For It?   \n",
       "1       Thomas Rhett                                       Life Changes   \n",
       "2         Bruno Mars                                          24K Magic   \n",
       "3         Ed Sheeran                                        Galway Girl   \n",
       "4         Ed Sheeran                                         Photograph   \n",
       "...              ...                                                ...   \n",
       "9990      Elton John          Funeral For A Friend / Love Lies Bleeding   \n",
       "9991      Supertramp                                    Fool's Overture   \n",
       "9992             Yes               Heart of the Sunrise - 2003 Remaster   \n",
       "9993  Paul McCartney  Venus And Mars / Rock Show / Jet - Live / Rema...   \n",
       "9994     The Killers                                     Mr. Brightside   \n",
       "\n",
       "      popularity                                   uri  \\\n",
       "0              0  spotify:track:7zgqtptZvhf8GEmdsM2vp2   \n",
       "1             63  spotify:track:4Vxu50qVrQcycjRyJQaZLC   \n",
       "2             81  spotify:track:6b8Be6ljOzmkOmFslEb23P   \n",
       "3             80  spotify:track:0afhq8XCExXpqazXczTSve   \n",
       "4             86  spotify:track:1HNkqx9Ahdgi1Ixy2xkKkL   \n",
       "...          ...                                   ...   \n",
       "9990           0  spotify:track:4UFlPCB4THnQ9TlPHqIQow   \n",
       "9991          55  spotify:track:5pSSEkT0963muzzIjsVkrs   \n",
       "9992          47  spotify:track:7gC6Rbllqf1yXNC02e5jz2   \n",
       "9993           0  spotify:track:6Ff77WXC58MkhLE5A1qgY1   \n",
       "9994           0  spotify:track:1is5wwajEk2JW7Nsd63r3m   \n",
       "\n",
       "                                                    url  \\\n",
       "0     https://open.spotify.com/track/7zgqtptZvhf8GEm...   \n",
       "1     https://open.spotify.com/track/4Vxu50qVrQcycjR...   \n",
       "2     https://open.spotify.com/track/6b8Be6ljOzmkOmF...   \n",
       "3     https://open.spotify.com/track/0afhq8XCExXpqaz...   \n",
       "4     https://open.spotify.com/track/1HNkqx9Ahdgi1Ix...   \n",
       "...                                                 ...   \n",
       "9990  https://open.spotify.com/track/4UFlPCB4THnQ9Tl...   \n",
       "9991  https://open.spotify.com/track/5pSSEkT0963muzz...   \n",
       "9992  https://open.spotify.com/track/7gC6Rbllqf1yXNC...   \n",
       "9993  https://open.spotify.com/track/6Ff77WXC58MkhLE...   \n",
       "9994  https://open.spotify.com/track/1is5wwajEk2JW7N...   \n",
       "\n",
       "                                         audio_features  danceability  energy  \\\n",
       "0     [{'danceability': 0.615, 'energy': 0.779, 'key...         0.615   0.779   \n",
       "1     [{'danceability': 0.687, 'energy': 0.845, 'key...         0.687   0.845   \n",
       "2     [{'danceability': 0.818, 'energy': 0.803, 'key...         0.818   0.803   \n",
       "3     [{'danceability': 0.624, 'energy': 0.876, 'key...         0.624   0.876   \n",
       "4     [{'danceability': 0.614, 'energy': 0.379, 'key...         0.614   0.379   \n",
       "...                                                 ...           ...     ...   \n",
       "9990  [{'danceability': 0.41, 'energy': 0.761, 'key'...         0.410   0.761   \n",
       "9991  [{'danceability': 0.406, 'energy': 0.306, 'key...         0.406   0.306   \n",
       "9992  [{'danceability': 0.362, 'energy': 0.507, 'key...         0.362   0.507   \n",
       "9993  [{'danceability': 0.331, 'energy': 0.733, 'key...         0.331   0.733   \n",
       "9994  [{'danceability': 0.342, 'energy': 0.932, 'key...         0.342   0.932   \n",
       "\n",
       "      key  loudness  ...  liveness  valence    tempo            type  \\\n",
       "0     2.0    -6.454  ...    0.1550    0.453  160.000  audio_features   \n",
       "1     7.0    -4.370  ...    0.0452    0.809   87.972  audio_features   \n",
       "2     1.0    -4.282  ...    0.1530    0.632  106.970  audio_features   \n",
       "3     9.0    -3.374  ...    0.3270    0.781   99.943  audio_features   \n",
       "4     4.0   -10.480  ...    0.0986    0.201  107.989  audio_features   \n",
       "...   ...       ...  ...       ...      ...      ...             ...   \n",
       "9990  9.0    -8.507  ...    0.2470    0.193  138.712  audio_features   \n",
       "9991  3.0   -10.482  ...    0.0727    0.073  135.272  audio_features   \n",
       "9992  1.0   -11.229  ...    0.1130    0.456  146.641  audio_features   \n",
       "9993  2.0    -8.671  ...    0.9470    0.380  128.512  audio_features   \n",
       "9994  1.0    -3.644  ...    0.0938    0.226  148.148  audio_features   \n",
       "\n",
       "                          id  \\\n",
       "0     7zgqtptZvhf8GEmdsM2vp2   \n",
       "1     4Vxu50qVrQcycjRyJQaZLC   \n",
       "2     6b8Be6ljOzmkOmFslEb23P   \n",
       "3     0afhq8XCExXpqazXczTSve   \n",
       "4     1HNkqx9Ahdgi1Ixy2xkKkL   \n",
       "...                      ...   \n",
       "9990  4UFlPCB4THnQ9TlPHqIQow   \n",
       "9991  5pSSEkT0963muzzIjsVkrs   \n",
       "9992  7gC6Rbllqf1yXNC02e5jz2   \n",
       "9993  6Ff77WXC58MkhLE5A1qgY1   \n",
       "9994  1is5wwajEk2JW7Nsd63r3m   \n",
       "\n",
       "                                             track_href  \\\n",
       "0     https://api.spotify.com/v1/tracks/7zgqtptZvhf8...   \n",
       "1     https://api.spotify.com/v1/tracks/4Vxu50qVrQcy...   \n",
       "2     https://api.spotify.com/v1/tracks/6b8Be6ljOzmk...   \n",
       "3     https://api.spotify.com/v1/tracks/0afhq8XCExXp...   \n",
       "4     https://api.spotify.com/v1/tracks/1HNkqx9Ahdgi...   \n",
       "...                                                 ...   \n",
       "9990  https://api.spotify.com/v1/tracks/4UFlPCB4THnQ...   \n",
       "9991  https://api.spotify.com/v1/tracks/5pSSEkT0963m...   \n",
       "9992  https://api.spotify.com/v1/tracks/7gC6Rbllqf1y...   \n",
       "9993  https://api.spotify.com/v1/tracks/6Ff77WXC58Mk...   \n",
       "9994  https://api.spotify.com/v1/tracks/1is5wwajEk2J...   \n",
       "\n",
       "                                           analysis_url duration_ms  \\\n",
       "0     https://api.spotify.com/v1/audio-analysis/7zgq...    208198.0   \n",
       "1     https://api.spotify.com/v1/audio-analysis/4Vxu...    190227.0   \n",
       "2     https://api.spotify.com/v1/audio-analysis/6b8B...    225983.0   \n",
       "3     https://api.spotify.com/v1/audio-analysis/0afh...    170827.0   \n",
       "4     https://api.spotify.com/v1/audio-analysis/1HNk...    258987.0   \n",
       "...                                                 ...         ...   \n",
       "9990  https://api.spotify.com/v1/audio-analysis/4UFl...    666572.0   \n",
       "9991  https://api.spotify.com/v1/audio-analysis/5pSS...    652560.0   \n",
       "9992  https://api.spotify.com/v1/audio-analysis/7gC6...    634440.0   \n",
       "9993  https://api.spotify.com/v1/audio-analysis/6Ff7...    620747.0   \n",
       "9994  https://api.spotify.com/v1/audio-analysis/1is5...    222107.0   \n",
       "\n",
       "     time_signature   0  \n",
       "0               4.0 NaN  \n",
       "1               4.0 NaN  \n",
       "2               4.0 NaN  \n",
       "3               4.0 NaN  \n",
       "4               4.0 NaN  \n",
       "...             ...  ..  \n",
       "9990            4.0 NaN  \n",
       "9991            4.0 NaN  \n",
       "9992            3.0 NaN  \n",
       "9993            4.0 NaN  \n",
       "9994            4.0 NaN  \n",
       "\n",
       "[9995 rows x 24 columns]"
      ]
     },
     "execution_count": 3,
     "metadata": {},
     "output_type": "execute_result"
    }
   ],
   "source": [
    "df_data = pd.read_csv('df_data.csv')\n",
    "df_data"
   ]
  },
  {
   "cell_type": "markdown",
   "id": "2fef6be2",
   "metadata": {},
   "source": [
    "# Appendix"
   ]
  },
  {
   "cell_type": "code",
   "execution_count": null,
   "id": "400b4b0b",
   "metadata": {},
   "outputs": [],
   "source": [
    "# test_big = test_big.assign(audio_features = audio_features)\n",
    "# test_big"
   ]
  },
  {
   "cell_type": "code",
   "execution_count": null,
   "id": "fa4f077e",
   "metadata": {},
   "outputs": [],
   "source": [
    "# IGNORE IT\n",
    "# ## -- Step 2\n",
    "# test = test.assign(audio_features = audio_features)\n",
    "# test"
   ]
  },
  {
   "cell_type": "markdown",
   "id": "9e64ac78",
   "metadata": {},
   "source": [
    "##### Get a small dataframe to try if things work"
   ]
  },
  {
   "cell_type": "code",
   "execution_count": null,
   "id": "e915fc12",
   "metadata": {},
   "outputs": [],
   "source": [
    "df_small = df.loc[df.song.isin(df.song.drop_duplicates().sample(frac=0.01, random_state=25))] "
   ]
  },
  {
   "cell_type": "code",
   "execution_count": null,
   "id": "01b09a8d",
   "metadata": {},
   "outputs": [],
   "source": [
    "df_small"
   ]
  },
  {
   "cell_type": "code",
   "execution_count": null,
   "id": "55f44a14",
   "metadata": {},
   "outputs": [],
   "source": [
    "# # We have to make the function resilient to errors in case the coinnection breaks\n",
    "# def get_features_delayed(uri):\n",
    "#     # First we try to get the features\n",
    "#     try:\n",
    "#         sleep(randint(1,1)) # respectful nap\n",
    "#         features = sp.audio_features(uri)\n",
    "#     # if it doesnt work we try again, for this we make the function recursive\n",
    "#     except:\n",
    "#         print('Error occured while getting feature names')\n",
    "#         features = get_features_delayed(uri)\n",
    "#     # Finally we return the features\n",
    "#     return features\n",
    "\n",
    "\n",
    "# # NOTES:\n",
    "# # Save a file for every 200 songs"
   ]
  },
  {
   "cell_type": "code",
   "execution_count": null,
   "id": "a4ff9fa5",
   "metadata": {},
   "outputs": [],
   "source": [
    "# df_small['features'] = df_small['uri'].apply(get_features_delayed)"
   ]
  },
  {
   "cell_type": "code",
   "execution_count": null,
   "id": "f341cde4",
   "metadata": {
    "scrolled": true
   },
   "outputs": [],
   "source": [
    "df_small"
   ]
  },
  {
   "cell_type": "code",
   "execution_count": null,
   "id": "e255d655",
   "metadata": {},
   "outputs": [],
   "source": [
    "# I can turn the first row around\n",
    "json_normalize(df_small['features'].iloc[1])      "
   ]
  },
  {
   "cell_type": "code",
   "execution_count": null,
   "id": "3346ff80",
   "metadata": {},
   "outputs": [],
   "source": []
  },
  {
   "cell_type": "code",
   "execution_count": null,
   "id": "d5c02ef8",
   "metadata": {},
   "outputs": [],
   "source": [
    "df_small"
   ]
  },
  {
   "cell_type": "code",
   "execution_count": null,
   "id": "a1004ee5",
   "metadata": {},
   "outputs": [],
   "source": [
    "test = df_small"
   ]
  },
  {
   "cell_type": "code",
   "execution_count": null,
   "id": "ba177355",
   "metadata": {},
   "outputs": [],
   "source": [
    "# SCHEINT ZU FUNKTIONIEREN\n",
    "# -- Step 1\n",
    "audio_features_small = []\n",
    "for uri in test[\"uri\"]:\n",
    "    audio_features_small.append(sp.audio_features(uri))"
   ]
  },
  {
   "cell_type": "code",
   "execution_count": null,
   "id": "ade30373",
   "metadata": {},
   "outputs": [],
   "source": [
    "## Step 2 -- Let's split it\n",
    "df_list_test = [pd.DataFrame(d, index=[i]) for i, d in enumerate(audio_features_small)]\n",
    "df_test = pd.concat(df_list_test)"
   ]
  },
  {
   "cell_type": "code",
   "execution_count": null,
   "id": "4a65d69a",
   "metadata": {},
   "outputs": [],
   "source": [
    "df_data_small = pd.merge(left = test,\n",
    "                                  right = df_test,\n",
    "                                  how = 'inner', \n",
    "                                  left_on = \"uri\", \n",
    "                                  right_on= \"uri\")\n",
    "df_data_small"
   ]
  },
  {
   "cell_type": "code",
   "execution_count": null,
   "id": "6008d2d9",
   "metadata": {},
   "outputs": [],
   "source": [
    "df_data_small.to_csv('data_small.csv', index=False)"
   ]
  },
  {
   "cell_type": "code",
   "execution_count": null,
   "id": "a3c3b3b7",
   "metadata": {},
   "outputs": [],
   "source": [
    "# ## -- Step 2\n",
    "# test = test.assign(audio_features = audio_features)\n",
    "# test"
   ]
  },
  {
   "cell_type": "code",
   "execution_count": null,
   "id": "e4226f6d",
   "metadata": {
    "scrolled": true
   },
   "outputs": [],
   "source": [
    "# audio_features = []\n",
    "# for i in df['uri']:\n",
    "#     audio_features.append(sp.audio_features(i))"
   ]
  },
  {
   "cell_type": "code",
   "execution_count": null,
   "id": "8fdadf5b",
   "metadata": {},
   "outputs": [],
   "source": [
    "#audio_features"
   ]
  },
  {
   "cell_type": "code",
   "execution_count": null,
   "id": "4dd2489f",
   "metadata": {},
   "outputs": [],
   "source": [
    "# for i in df['uri']:\n",
    "#     audio_features = sp.audio_features(i)\n",
    "#     df = df.append({'audio_features':audio_features},ignore_index=False)"
   ]
  },
  {
   "cell_type": "code",
   "execution_count": null,
   "id": "8b869b2a",
   "metadata": {},
   "outputs": [],
   "source": [
    "# for i in range(len(df_small['features'])):\n",
    "#     json_normalize(df_small['features'].iloc[i])"
   ]
  },
  {
   "cell_type": "code",
   "execution_count": null,
   "id": "240397e3",
   "metadata": {},
   "outputs": [],
   "source": []
  },
  {
   "cell_type": "code",
   "execution_count": null,
   "id": "d5b70285",
   "metadata": {
    "scrolled": true
   },
   "outputs": [],
   "source": [
    "# df_small_try = df_small\n",
    "# df_small_try"
   ]
  },
  {
   "cell_type": "code",
   "execution_count": null,
   "id": "8a25f2b8",
   "metadata": {},
   "outputs": [],
   "source": [
    "# def flatten_features(df):\n",
    "#     featurelist = []\n",
    "#     for i in range(len(df['features'])):\n",
    "#         try:\n",
    "#             featurelist.append([\n",
    "#             df['features'][i][0]['danceability'],\n",
    "#             df['features'][i][0]['energy'],\n",
    "#             df['features'][i][0]['key'],\n",
    "#             df['features'][i][0]['loudness'],\n",
    "#             df['features'][i][0]['mode'],\n",
    "#             df['features'][i][0]['speechiness'],\n",
    "#             df['features'][i][0]['acousticness'],\n",
    "#             df['features'][i][0]['instrumentalness'],\n",
    "#             df['features'][i][0]['liveness'],\n",
    "#             df['features'][i][0]['valence'],\n",
    "#             df['features'][i][0]['tempo']\n",
    "#             ])\n",
    "#         except:\n",
    "#             featurelist.append([0,0,0,0,0,0,0,0,0,0,0])\n",
    "#     featureframe = pd.DataFrame(featurelist,columns = ['danceability','energy','key','loudness','mode','speechiness','acousticness','instrumentalness','liveness','valence','tempo'] )\n",
    "#     df = pd.concat([df,featureframe],axis = 1)\n",
    "#     df = df.drop('features',axis = 1)\n",
    "#     return df"
   ]
  },
  {
   "cell_type": "code",
   "execution_count": null,
   "id": "c2656fcb",
   "metadata": {},
   "outputs": [],
   "source": [
    "# df_clean = flatten_features(df_small_try)"
   ]
  },
  {
   "cell_type": "code",
   "execution_count": null,
   "id": "ed754727",
   "metadata": {},
   "outputs": [],
   "source": [
    "#json_normalize(df_small_try['features'], ['danceability', 'energy'])"
   ]
  },
  {
   "cell_type": "code",
   "execution_count": null,
   "id": "c7beb424",
   "metadata": {},
   "outputs": [],
   "source": [
    "#df_small_test['features'] = json_normalize(df_small['features'], ['danceability'])"
   ]
  },
  {
   "cell_type": "code",
   "execution_count": null,
   "id": "9f970ac0",
   "metadata": {},
   "outputs": [],
   "source": []
  },
  {
   "cell_type": "code",
   "execution_count": null,
   "id": "0a4f0fa6",
   "metadata": {},
   "outputs": [],
   "source": [
    "# def get_audio_features(uri):\n",
    "#     for uri in df[\"uri\"]:\n",
    "#         audio_features = sp.audio_features(uri)\n",
    "#         df2 = df.append({'audio_features':audio_features}, ignore_index=True)\n",
    "#         while"
   ]
  },
  {
   "cell_type": "code",
   "execution_count": null,
   "id": "d646bcdb",
   "metadata": {},
   "outputs": [],
   "source": []
  },
  {
   "cell_type": "code",
   "execution_count": null,
   "id": "88c39f31",
   "metadata": {},
   "outputs": [],
   "source": []
  },
  {
   "cell_type": "code",
   "execution_count": null,
   "id": "e23badec",
   "metadata": {},
   "outputs": [],
   "source": []
  },
  {
   "cell_type": "code",
   "execution_count": null,
   "id": "cb429b34",
   "metadata": {},
   "outputs": [],
   "source": []
  },
  {
   "cell_type": "code",
   "execution_count": null,
   "id": "61c45e97",
   "metadata": {},
   "outputs": [],
   "source": []
  },
  {
   "cell_type": "code",
   "execution_count": null,
   "id": "14325697",
   "metadata": {},
   "outputs": [],
   "source": [
    "# 'danceability': 0.615,\n",
    "#   'energy': 0.779,\n",
    "#   'key': 2,\n",
    "#   'loudness': -6.454,\n",
    "#   'mode': 1,\n",
    "#   'speechiness': 0.135,\n",
    "#   'acousticness': 0.0665,\n",
    "#   'instrumentalness': 0,\n",
    "#   'liveness': 0.155,\n",
    "#   'valence': 0.453,\n",
    "#   'tempo': 160.0,"
   ]
  },
  {
   "cell_type": "code",
   "execution_count": null,
   "id": "5f98ef7c",
   "metadata": {},
   "outputs": [],
   "source": [
    "# feature_dict = {}"
   ]
  },
  {
   "cell_type": "code",
   "execution_count": null,
   "id": "da4d5e3e",
   "metadata": {},
   "outputs": [],
   "source": [
    "# BASE_URL = 'https://api.spotify.com/v1/'"
   ]
  },
  {
   "cell_type": "code",
   "execution_count": null,
   "id": "cd4ae65a",
   "metadata": {},
   "outputs": [],
   "source": [
    "# for t_uri in track_uris:\n",
    "    \n",
    "#     feature_dict[t_uri] = {'danceability': 0,\n",
    "#                            'energy': 0,\n",
    "#                            'key': 0,\n",
    "#                            'loudness': 0,\n",
    "#                            'mode': 0,\n",
    "#                            'speechiness':0,\n",
    "#                            'acousticness': 0.0665,\n",
    "#                            'instrumentalness': 0,\n",
    "#                            'liveness': 0.155,\n",
    "#                            'valence': 0.453,\n",
    "#                            'tempo': 0}\n",
    "    \n",
    "# #     r = all_tracks.get(BASE_URL + 'tracks/' + t_uri, headers=headers)\n",
    "# #     r = r.json()\n",
    "# #     feature_dict[t_uri]['popularity'] = r['popularity']\n",
    "    \n",
    "#     s = sp.audio_features(t_uri)\n",
    "#     s = json_normalize(s)\n",
    "#     feature_dict[t_uri]['danceability'] = s['danceability']\n",
    "#     feature_dict[t_uri]['energy'] = s['energy']\n",
    "#     feature_dict[t_uri]['speechiness'] = s['speechiness']\n",
    "#     feature_dict[t_uri]['instrumentalness'] = s['instrumentalness']\n",
    "#     feature_dict[t_uri]['tempo'] = s['tempo']"
   ]
  },
  {
   "cell_type": "code",
   "execution_count": null,
   "id": "5ba6e8b5",
   "metadata": {},
   "outputs": [],
   "source": []
  }
 ],
 "metadata": {
  "kernelspec": {
   "display_name": "Python 3 (ipykernel)",
   "language": "python",
   "name": "python3"
  },
  "language_info": {
   "codemirror_mode": {
    "name": "ipython",
    "version": 3
   },
   "file_extension": ".py",
   "mimetype": "text/x-python",
   "name": "python",
   "nbconvert_exporter": "python",
   "pygments_lexer": "ipython3",
   "version": "3.9.13"
  }
 },
 "nbformat": 4,
 "nbformat_minor": 5
}
